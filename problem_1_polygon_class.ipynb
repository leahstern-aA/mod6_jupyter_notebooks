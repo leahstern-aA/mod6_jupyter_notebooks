{
 "cells": [
  {
   "cell_type": "markdown",
   "id": "a453f703",
   "metadata": {},
   "source": [
    "## Problem 1\n",
    "## Polygon Class\n",
    "\n",
    "Implement a class called `RegularPolygon` with the following: \n",
    "\n",
    "1. A constructor method that initializes two instance properties: \n",
    "the number of sides for the polygon and the length of each side. \n",
    "If the number of sides is less than 3, raise an `Exception` with the \n",
    "message `\"A polygon must have at least 3 sides.\"` \n",
    "\n",
    "2. A class variable called `type` set to an inital value of `\"Polygon\"` \n",
    "\n",
    "3. An instance method called `identify_polygon` that identifies the type \n",
    "of a polygon based on its number of sides. This method should set the `type` \n",
    "class variable for this instance to the identified type based on the following logic:\n",
    "\n",
    "``` \n",
    "| Number of sides        | Type                  |\n",
    "|------------------------|-----------------------|\n",
    "| 3                      | Triangle              |\n",
    "| 4                      | Quadrilateral         |\n",
    "| 5                      | Pentagon              |\n",
    "| 6                      | Hexagon               |\n",
    "| 7                      | Heptagon              |\n",
    "| 8                      | Octagon               |\n",
    "| 9                      | Nonagon               |\n",
    "| 10                     | Decagon               |\n",
    "| Greater than 10        | Polygon with n sides  |\n",
    "``` \n",
    "\n",
    "4. A class method called `polygon_factory` that is a factory function for \n",
    "creating instances of the class. This method should take a list of tuples \n",
    "as an argument, where each tuple contains the (num_sides, length) for each \n",
    "`RegularPolygon` instance to be created. The method should return a list of \n",
    "all the class instances created.\n",
    "\n",
    "5. A static method called `get_perimeter` that calculates and returns the \n",
    "perimeter of a polygon. This method should take an instance of the `RegularPolygon`\n",
    "class and return the calculated perimeter. (The perimeter of a regular polygon \n",
    "is the product of the number of sides multiplied by the length of each side.)"
   ]
  },
  {
   "cell_type": "code",
   "execution_count": null,
   "id": "e9c3d5fe",
   "metadata": {},
   "outputs": [],
   "source": [
    "# TODO: Write your class here."
   ]
  },
  {
   "cell_type": "code",
   "execution_count": null,
   "id": "5e40b35d",
   "metadata": {},
   "outputs": [],
   "source": [
    "# Run this cell to test your solution!\n",
    "\n",
    "pentagon = RegularPolygon(5, 5)\n",
    "octagon = RegularPolygon(8, 10)\n",
    "dodecagon = RegularPolygon(12, 1)\n",
    "\n",
    "print(f\"{pentagon.num_sides} sides of length {pentagon.length}\") # 5 sides of length 5\n",
    "print(f\"{octagon.num_sides} sides of length {octagon.length}\") # 8 sides of length 10\n",
    "print(f\"{dodecagon.num_sides} sides of length {dodecagon.length}\") # 12 sides of length 1\n",
    "\n",
    "pentagon.identify_polygon()\n",
    "octagon.identify_polygon()\n",
    "dodecagon.identify_polygon()\n",
    "\n",
    "print(pentagon.type) # Pentagon\n",
    "print(octagon.type) # Octagon\n",
    "print(dodecagon.type) # Polygon with 12 sides\n",
    "\n",
    "print(RegularPolygon.get_perimeter(pentagon)) # 25\n",
    "print(RegularPolygon.get_perimeter(octagon)) # 80\n",
    "print(RegularPolygon.get_perimeter(dodecagon)) # 12\n",
    "\n",
    "print(RegularPolygon.polygon_factory([(5, 5), (3, 2), (8, 10)])) # prints a list of 3 RegularPolygon objects\n",
    "\n",
    "not_a_polygon = RegularPolygon(2, 5) # Exception: A polygon must have at least 3 sides."
   ]
  },
  {
   "cell_type": "markdown",
   "id": "3e48833a",
   "metadata": {},
   "source": []
  },
  {
   "cell_type": "code",
   "execution_count": null,
   "id": "14dc154e",
   "metadata": {},
   "outputs": [],
   "source": []
  }
 ],
 "metadata": {
  "kernelspec": {
   "display_name": "Python 3 (ipykernel)",
   "language": "python",
   "name": "python3"
  },
  "language_info": {
   "codemirror_mode": {
    "name": "ipython",
    "version": 3
   },
   "file_extension": ".py",
   "mimetype": "text/x-python",
   "name": "python",
   "nbconvert_exporter": "python",
   "pygments_lexer": "ipython3",
   "version": "3.9.4"
  }
 },
 "nbformat": 4,
 "nbformat_minor": 5
}
