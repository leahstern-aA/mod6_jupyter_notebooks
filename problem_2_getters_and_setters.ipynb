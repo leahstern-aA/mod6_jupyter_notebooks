{
 "cells": [
  {
   "cell_type": "markdown",
   "id": "207fa2e5",
   "metadata": {},
   "source": [
    "## Problem 2\n",
    "## Getters & Setters\n",
    "\n",
    "Implement a class called `Game` with the following: \n",
    "1. A constructor that takes no arguments and sets an instance variable called `score` to an initial value of 0. \n",
    "2. A getter method named `score` that returns the value of a private instance property called `_score` \n",
    "3. A setter method named `score` that sets the value of the private property `_score`. This method should take a single argument for the value and set `_score` to this value * 10."
   ]
  },
  {
   "cell_type": "code",
   "execution_count": null,
   "id": "7e52f132",
   "metadata": {},
   "outputs": [],
   "source": [
    "# TODO: Write your class here."
   ]
  },
  {
   "cell_type": "code",
   "execution_count": null,
   "id": "228aa6d1",
   "metadata": {},
   "outputs": [],
   "source": [
    "# Run this cell to test your solution!\n",
    "\n",
    "my_game = Game()\n",
    "print(my_game.score) # 0\n",
    "\n",
    "my_game.score = 5\n",
    "print(my_game.score) # 50"
   ]
  }
 ],
 "metadata": {
  "kernelspec": {
   "display_name": "Python 3 (ipykernel)",
   "language": "python",
   "name": "python3"
  },
  "language_info": {
   "codemirror_mode": {
    "name": "ipython",
    "version": 3
   },
   "file_extension": ".py",
   "mimetype": "text/x-python",
   "name": "python",
   "nbconvert_exporter": "python",
   "pygments_lexer": "ipython3",
   "version": "3.9.4"
  }
 },
 "nbformat": 4,
 "nbformat_minor": 5
}
