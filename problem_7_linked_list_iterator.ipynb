{
 "cells": [
  {
   "cell_type": "markdown",
   "id": "257de76f",
   "metadata": {},
   "source": [
    "## Problem 7\n",
    "## Linked List Iterator\n",
    "\n",
    "In this practice, you will be overriding built-in magic methods to iterate over a linked list. You will see a very simple `Node` & `LinkedList` class in the cell below. Implement another class called `LinkedListIterator` that uses the magic methods `__init__`, `__iter__`, and `__next__` to allow for iteration over an instance of the `LinkedList` class with a for loop:\n",
    "\n",
    "- `__init__` should initialize an instance property that keeps track of the current node.\n",
    "- `__iter__` must return an interator object, in other words an object that implements `__next__`.\n",
    "- `__next__` should return the value of the current node and then move the current node to the next node in the linked list. If the current node is `None`, raise the built-in `StopIteration` exception to stop iterating.\n",
    "We are iterating over the `LinkedList` class itself, so this class will also need a `__iter__` method that returns an iterator object. Do not modify the `Node` class."
   ]
  },
  {
   "cell_type": "code",
   "execution_count": null,
   "id": "97d78b2d",
   "metadata": {},
   "outputs": [],
   "source": [
    "# TODO: Write your class here.\n",
    "\n",
    "class Node:\n",
    "    def __init__(self, value):\n",
    "        self._value = value\n",
    "        self._next = None\n",
    "\n",
    "class LinkedList:\n",
    "    def __init__(self):\n",
    "        self._head = None\n",
    "        self._tail = None\n",
    "        self._length = 0\n",
    "\n",
    "    def add(self, value):\n",
    "        new_node = Node(value)\n",
    "\n",
    "        if self._head is None:\n",
    "            self._head = new_node\n",
    "        else:\n",
    "            self._tail._next = new_node\n",
    "\n",
    "        self._tail = new_node\n",
    "        self._length += 1\n",
    "        return self"
   ]
  },
  {
   "cell_type": "code",
   "execution_count": null,
   "id": "64132853",
   "metadata": {},
   "outputs": [],
   "source": [
    "# Run this cell to test your solution!\n",
    "\n",
    "linked_list = LinkedList()\n",
    "linked_list.add('node 1')\n",
    "linked_list.add('node 2')\n",
    "linked_list.add('node 3')\n",
    "linked_list.add('node 4')\n",
    "linked_list.add('node 5')\n",
    "\n",
    "# this loop should print \"Current node: node x\" five times \n",
    "# for each node in the linked list\n",
    "for i in linked_list:\n",
    "    print(f\"Current node: {i}\")"
   ]
  }
 ],
 "metadata": {
  "kernelspec": {
   "display_name": "Python 3 (ipykernel)",
   "language": "python",
   "name": "python3"
  },
  "language_info": {
   "codemirror_mode": {
    "name": "ipython",
    "version": 3
   },
   "file_extension": ".py",
   "mimetype": "text/x-python",
   "name": "python",
   "nbconvert_exporter": "python",
   "pygments_lexer": "ipython3",
   "version": "3.9.4"
  }
 },
 "nbformat": 4,
 "nbformat_minor": 5
}
