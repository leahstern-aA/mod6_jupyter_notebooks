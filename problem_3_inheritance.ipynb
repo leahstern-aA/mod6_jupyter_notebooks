{
 "cells": [
  {
   "cell_type": "markdown",
   "id": "b0961faa",
   "metadata": {},
   "source": [
    "## Problem 3\n",
    "## Inheritance\n",
    "\n",
    "Implement a class called `Quadrilateral` with a constructor method that initializes two instance properties: `length` and `width`.\n",
    "\n",
    "Implement a second class called `Square` that inherits from `Quadrilateral`. Create a constructor method in the `Square` class that initializes two instance properties `length` and `width` -- only if the two values passed into the constructor are equal. If the two values are not equal, raise an `Exception` with the message `\"A square must have an equal length and width.\"`.\n",
    "\n",
    "If the values are equal, use the `super()` function to initialize the same two instance properties from the `Quadrilateral` class's constructor method."
   ]
  },
  {
   "cell_type": "code",
   "execution_count": null,
   "id": "9f7a6d9e",
   "metadata": {},
   "outputs": [],
   "source": [
    "# TODO: Write your class here."
   ]
  },
  {
   "cell_type": "code",
   "execution_count": null,
   "id": "59fbdb07",
   "metadata": {},
   "outputs": [],
   "source": [
    "# Run this cell to test your solution!\n",
    "\n",
    "quad = Quadrilateral(20, 10)\n",
    "print(f\"{quad.length}, {quad.width}\") # 20, 10\n",
    "\n",
    "square = Square(10, 10)\n",
    "print(f\"{square.length}, {square.width}\") # 10, 10\n",
    "\n",
    "not_square = Square(5, 10) # Exception: A square must have an equal length and width."
   ]
  }
 ],
 "metadata": {
  "kernelspec": {
   "display_name": "Python 3 (ipykernel)",
   "language": "python",
   "name": "python3"
  },
  "language_info": {
   "codemirror_mode": {
    "name": "ipython",
    "version": 3
   },
   "file_extension": ".py",
   "mimetype": "text/x-python",
   "name": "python",
   "nbconvert_exporter": "python",
   "pygments_lexer": "ipython3",
   "version": "3.9.4"
  }
 },
 "nbformat": 4,
 "nbformat_minor": 5
}
