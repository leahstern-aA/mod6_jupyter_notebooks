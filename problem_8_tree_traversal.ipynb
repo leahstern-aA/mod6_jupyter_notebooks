{
 "cells": [
  {
   "cell_type": "markdown",
   "id": "1f7dfe82",
   "metadata": {},
   "source": [
    "## Problem 8\n",
    "## Tree Traversal\n",
    "\n",
    "In this practice, you will use classes to implement a binary search tree and perform preorder, inorder, and postorder traversal of the tree.\n",
    "\n",
    "Implement a class `Node` with a constructor method that defines the following instance properties:\n",
    "- The lefthand child of the node, initialized to `None`\n",
    "- The righthand child of the node, initialized to `None`\n",
    "- The value of the node, initialized to the value passed into the constructor\n",
    "\n",
    "Implement another class `Tree` with the following instance methods:\n",
    "\n",
    "- `insert()` that takes in the root node and a new node and places the new node in the correct location in the binary search tree\n",
    "- `preorder_traversal()` that traverses the tree and prints the value of each node in preorder succession\n",
    "- `inorder_traversal()` that traverses the tree and prints the value of each node in inorder succession\n",
    "- `postorder_traversal()` that traverses the tree and prints the value of each node in postorder succession"
   ]
  },
  {
   "cell_type": "code",
   "execution_count": null,
   "id": "2ec45d37",
   "metadata": {},
   "outputs": [],
   "source": [
    "# TODO: Write your class here."
   ]
  },
  {
   "cell_type": "code",
   "execution_count": null,
   "id": "249e6b2a",
   "metadata": {},
   "outputs": [],
   "source": [
    "# Run this cell to test your solution!\n",
    "\n",
    "tree = Tree()\n",
    "\n",
    "root = Node(4)\n",
    "tree.insert(root, Node(1))\n",
    "tree.insert(root, Node(2))\n",
    "tree.insert(root, Node(3))\n",
    "\n",
    "print(\"** PRE ORDER: **\")\n",
    "tree.preorder_traversal(root) # 4, 1, 2, 3\n",
    "\n",
    "print(\"** IN ORDER: **\")\n",
    "tree.inorder_traversal(root) # 1, 2, 3, 4\n",
    "\n",
    "print(\"** POST ORDER: **\")\n",
    "tree.postorder_traversal(root) # 3, 2, 1, 4"
   ]
  }
 ],
 "metadata": {
  "kernelspec": {
   "display_name": "Python 3 (ipykernel)",
   "language": "python",
   "name": "python3"
  },
  "language_info": {
   "codemirror_mode": {
    "name": "ipython",
    "version": 3
   },
   "file_extension": ".py",
   "mimetype": "text/x-python",
   "name": "python",
   "nbconvert_exporter": "python",
   "pygments_lexer": "ipython3",
   "version": "3.9.4"
  }
 },
 "nbformat": 4,
 "nbformat_minor": 5
}
