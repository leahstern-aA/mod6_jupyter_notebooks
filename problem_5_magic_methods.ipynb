{
 "cells": [
  {
   "cell_type": "markdown",
   "id": "93f33eb4",
   "metadata": {},
   "source": [
    "## Problem 5\n",
    "## Magic Methods\n",
    "\n",
    "Python does not, by default, do automatic typecasting when \"adding\" a string and a number together. For example, `print(\"1\" + 2)` will raise a `TypeError`. However, we can override the magic method `__add__` in a class to allow for this functionality.\n",
    "\n",
    "Implement a class called `StrNumeric` with the following:\n",
    "\n",
    "1. A constructor method that takes a parameter called `value` and initializes an instance property called `val`. We will be typecasting this value as an `int` later on, so we need to ensure that the typecasting will be possible. Use the built-in function `isinstance()` to check if the value passed in is a `str` and the built-in `str.isnumeric()` method to ensure that all characters in the string value are numeric. If the value is a string, but has non-numeric characters, raise an `Exception` with the message `\"String value can have only numeric characters.\"`. Otherwise, set the instance property to this value.\n",
    "2. An implementation of the `__add__` magic method. This method will take in `self` (as does every instance method) along with another parameter called `thing_2`. This method should cast both `self.val` and `thing_2` as `int`s and return their sum."
   ]
  },
  {
   "cell_type": "code",
   "execution_count": null,
   "id": "eb4c0e6f",
   "metadata": {},
   "outputs": [],
   "source": [
    "# TODO: Write your class here."
   ]
  },
  {
   "cell_type": "code",
   "execution_count": null,
   "id": "56482f84",
   "metadata": {},
   "outputs": [],
   "source": [
    "# Run this cell to test your solution!\n",
    "\n",
    "str_1 = StrNumeric(\"1\")\n",
    "print(str_1 + 2) # 3\n",
    "\n",
    "str_44 = StrNumeric(\"44\")\n",
    "print(str_44 + 6) # 50\n",
    "\n",
    "num_44 = 44\n",
    "print(num_44 + 6) # 50\n",
    "\n",
    "not_numeric = StrNumeric(\"1.2\") # Exception: String value can have only numeric characters."
   ]
  }
 ],
 "metadata": {
  "kernelspec": {
   "display_name": "Python 3 (ipykernel)",
   "language": "python",
   "name": "python3"
  },
  "language_info": {
   "codemirror_mode": {
    "name": "ipython",
    "version": 3
   },
   "file_extension": ".py",
   "mimetype": "text/x-python",
   "name": "python",
   "nbconvert_exporter": "python",
   "pygments_lexer": "ipython3",
   "version": "3.9.4"
  }
 },
 "nbformat": 4,
 "nbformat_minor": 5
}
