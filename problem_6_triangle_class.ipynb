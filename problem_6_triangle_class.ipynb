{
 "cells": [
  {
   "cell_type": "markdown",
   "id": "f56b6fc7",
   "metadata": {},
   "source": [
    "## Problem 6\n",
    "## Triangle Class\n",
    "Build off your `RegularPolygon` class and create another class called `Triangle`. The `Triangle` class should have functionality that calculates both the perimeter and the area of the triangle. The calculated values for both the perimeter and area should be assigned to respective instance properties on the `Triangle` class.\n",
    "\n",
    "The area of a triangle can be calculated with Heron's formula: `√(s(s-a)(s-b)(s-c))`, where `s` is the semi-perimeter of the triangle. The semi-perimeter is the perimeter divided by 2. The square root function `sqrt()` can be imported from the built-in `math` package."
   ]
  },
  {
   "cell_type": "code",
   "execution_count": null,
   "id": "572dae3d",
   "metadata": {},
   "outputs": [],
   "source": [
    "# TODO: Write your class here."
   ]
  },
  {
   "cell_type": "code",
   "execution_count": null,
   "id": "277dd3c9",
   "metadata": {},
   "outputs": [],
   "source": [
    "# Run this cell to test your solution!\n",
    "\n",
    "triangle_a = Triangle(3, 3)\n",
    "print(triangle_a.perimeter) # 9\n",
    "print(triangle_a.area) # 3.8971...\n",
    "\n",
    "triangle_b = Triangle(3, 12)\n",
    "print(triangle_b.perimeter) # 36\n",
    "print(triangle_b.area) # 62.3538...\n",
    "\n",
    "triangle_c = Triangle(4, 12)\n",
    "print(triangle_c.perimeter) # Exception: A triangle must have exactly three sides"
   ]
  }
 ],
 "metadata": {
  "kernelspec": {
   "display_name": "Python 3 (ipykernel)",
   "language": "python",
   "name": "python3"
  },
  "language_info": {
   "codemirror_mode": {
    "name": "ipython",
    "version": 3
   },
   "file_extension": ".py",
   "mimetype": "text/x-python",
   "name": "python",
   "nbconvert_exporter": "python",
   "pygments_lexer": "ipython3",
   "version": "3.9.4"
  }
 },
 "nbformat": 4,
 "nbformat_minor": 5
}
